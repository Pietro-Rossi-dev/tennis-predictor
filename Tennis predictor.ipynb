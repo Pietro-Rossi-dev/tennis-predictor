{
 "cells": [
  {
   "cell_type": "markdown",
   "id": "10ad684e",
   "metadata": {},
   "source": [
    "wELCME"
   ]
  },
  {
   "cell_type": "markdown",
   "id": "1567d3fc",
   "metadata": {},
   "source": []
  },
  {
   "cell_type": "code",
   "execution_count": 15,
   "id": "7c2a0f85",
   "metadata": {},
   "outputs": [],
   "source": [
    "import numpy as np\n",
    "player_1 = {\n",
    "    \"name\" : \"Sinner\",\n",
    "    \"form serving\" : 90,\n",
    "    \"form receiving\" : 80\n",
    "}\n",
    "\n",
    "player_2 = {\n",
    "    \"name\" : \"Alcaraz\",\n",
    "    \"form serving\" : 90,\n",
    "    \"form receiving\" : 90\n",
    "}"
   ]
  },
  {
   "cell_type": "code",
   "execution_count": 16,
   "id": "18a9870e",
   "metadata": {},
   "outputs": [],
   "source": [
    "def deuce(prob_1_wins_point):\n",
    "\n",
    "    p1 = prob_1_wins_point\n",
    "    p2 = 1 - p1\n",
    "    deuce_start = np.array([[1, 0, 0, 0, 0]])\n",
    "    transition = np.array([[0, p1, p2, 0, 0],\n",
    "                  [p2, 0, 0, p1, 0],\n",
    "                  [p1, 0, 0, 0, p2],\n",
    "                  [0, 0, 0, 1, 0],\n",
    "                  [0, 0, 0, 0, 1]])\n",
    "\n",
    "    lim_transition = np.linalg.matrix_power(transition, 10000)\n",
    "    terminal = deuce_start @ lim_transition\n",
    "    prob_1_wins_deuce = terminal[0, 3]\n",
    "    prob_2_wins_deuce = 1 - prob_1_wins_deuce\n",
    "    return {\n",
    "        \"prob 1 wins deuce\" : prob_1_wins_deuce,\n",
    "        \"prob 2 wins deuce\" : prob_2_wins_deuce\n",
    "    }"
   ]
  },
  {
   "cell_type": "code",
   "execution_count": 17,
   "id": "358fb0c8",
   "metadata": {},
   "outputs": [],
   "source": [
    "def game(player_1, player_2, serving):\n",
    "    if serving == player_1:\n",
    "        prob_1_wins_point = player_1[\"form serving\"] / (player_1[\"form serving\"] + player_2[\"form receiving\"])\n",
    "        prob_2_wins_point = 1 - prob_1_wins_point\n",
    "    else:\n",
    "        prob_2_wins_point = player_2[\"form serving\"] / (player_2[\"form serving\"] + player_1[\"form receiving\"])\n",
    "        prob_1_wins_point = 1 - prob_2_wins_point\n",
    "    \n",
    "    deuce_probs = deuce(prob_1_wins_point)\n",
    "\n",
    "    prob_1_wins_game = (prob_1_wins_point) ** 4 + 4 * (prob_1_wins_point) ** 4 * prob_2_wins_point + 10 * (prob_1_wins_point) ** 4 * prob_2_wins_point ** 2 + 20 * prob_1_wins_point ** 3 * prob_2_wins_point ** 3 * deuce_probs[\"prob 1 wins deuce\"]\n",
    "    prob_2_wins_game = 1 - prob_1_wins_game\n",
    "    return {\n",
    "        \"prob 1 wins game\" : prob_1_wins_game,\n",
    "        \"prob 2 wins game\" : prob_2_wins_game\n",
    "    }\n"
   ]
  },
  {
   "cell_type": "code",
   "execution_count": 18,
   "id": "5de5938d",
   "metadata": {},
   "outputs": [],
   "source": [
    "def gamez(player_1, player_2, serving):\n",
    "    if serving == player_1:\n",
    "        p1 = player_1[\"form serving\"] / (player_1[\"form serving\"] + player_2[\"form receiving\"])\n",
    "        p2 = 1 - p1\n",
    "    else:\n",
    "        p2 = player_2[\"form serving\"] / (player_2[\"form serving\"] + player_1[\"form receiving\"])\n",
    "        p1 = 1 - p2\n",
    "    \n",
    "    start = np.array([1] + [0]*19)\n",
    "\n",
    "    matrix = np.array([\n",
    "        [\"points\", \"0-0\",    \"15-0\",   \"0-15\",   \"30-0\",   \"0-30\",   \"15-15\",  \"40-0\",   \"0-40\",   \"30-15\",  \"15-30\",  \"40-15\",  \"15-40\",  \"30-30\",  \"40-30\",  \"30-40\",  \"A1\",     \"A2\",     \"W1\",     \"W2\",     \"D\"     ],\n",
    "        [\"0-0\",    0,        p1,        p2,        0,        0,        0,        0,        0,        0,        0,        0,        0,        0,        0,        0,        0,        0,        0,        0,        0      ],\n",
    "        [\"15-0\",   0,        0,        0,        p1,        0,        p2,        0,        0,        0,        0,        0,        0,        0,        0,        0,        0,        0,        0,        0,        0      ],\n",
    "        [\"0-15\",   0,        0,        0,        0,        p2,        p1,        0,        0,        0,        0,        0,        0,        0,        0,        0,        0,        0,        0,        0,        0      ],\n",
    "        [\"30-0\",   0,        0,        0,        0,        0,        0,        p1,        0,        p2,        0,        0,        0,        0,        0,        0,        0,        0,        0,        0,        0      ],\n",
    "        [\"0-30\",   0,        0,        0,        0,        0,        0,        0,        p2,        0,        p1,        0,        0,        0,        0,        0,        0,        0,        0,        0,        0      ],\n",
    "        [\"15-15\",  0,        0,        0,        0,        0,        0,        0,        0,        p1,        p2,        0,        0,        0,        0,        0,        0,        0,        0,        0,        0      ],\n",
    "        [\"40-0\",   0,        0,        0,        0,        0,        0,        0,        0,        0,        0,        p2,        0,        0,        0,        0,        0,        0,        p1,        0,        0      ],\n",
    "        [\"0-40\",   0,        0,        0,        0,        0,        0,        0,        0,        0,        0,        0,        p1,        0,        0,        0,        0,        0,        0,        p2,        0      ],\n",
    "        [\"30-15\",  0,        0,        0,        0,        0,        0,        0,        0,        0,        0,        p1,        0,        p2,        0,        0,        0,        0,        0,        0,        0      ],\n",
    "        [\"15-30\",  0,        0,        0,        0,        0,        0,        0,        0,        0,        0,        0,        p2,        p1,        0,        0,        0,        0,        0,        0,        0      ],\n",
    "        [\"40-15\",  0,        0,        0,        0,        0,        0,        0,        0,        0,        0,        0,        0,        0,        p2,        0,        0,        0,        p1,        0,        0      ],\n",
    "        [\"15-40\",  0,        0,        0,        0,        0,        0,        0,        0,        0,        0,        0,        0,        0,        0,        p1,        0,        0,        0,        p2,        0      ],\n",
    "        [\"30-30\",  0,        0,        0,        0,        0,        0,        0,        0,        0,        0,        0,        0,        0,        p1,        p2,        0,        0,        0,        0,        0      ],\n",
    "        [\"40-30\",  0,        0,        0,        0,        0,        0,        0,        0,        0,        0,        0,        0,        0,        0,        0,        0,        0,        p1,        0,        p2      ],\n",
    "        [\"30-40\",  0,        0,        0,        0,        0,        0,        0,        0,        0,        0,        0,        0,        0,        0,        0,        0,        0,        0,        p2,        p1      ],\n",
    "        [\"A1\",     0,        0,        0,        0,        0,        0,        0,        0,        0,        0,        0,        0,        0,        0,        0,        0,        0,        p1,        0,        p2      ],\n",
    "        [\"A2\",     0,        0,        0,        0,        0,        0,        0,        0,        0,        0,        0,        0,        0,        0,        0,        0,        0,        0,        p2,        p1      ],\n",
    "        [\"W1\",     0,        0,        0,        0,        0,        0,        0,        0,        0,        0,        0,        0,        0,        0,        0,        0,        0,        1,        0,        0      ],\n",
    "        [\"W2\",     0,        0,        0,        0,        0,        0,        0,        0,        0,        0,        0,        0,        0,        0,        0,        0,        0,        0,        1,        0      ],\n",
    "        [\"D\",      0,        0,        0,        0,        0,        0,        0,        0,        0,        0,        0,        0,        0,        0,        0,        p1,        p2,        0,        0,        0      ]\n",
    "    ], dtype=object)\n",
    "\n",
    "    numeric_matrix = matrix[1:, 1:].astype(np.float64)\n",
    "\n",
    "    lim_transition = np.linalg.matrix_power(numeric_matrix, 10000)\n",
    "\n",
    "    terminal = start @ lim_transition\n",
    "    prob_1_wins_game = terminal[17]\n",
    "    prob_2_wins_game = 1 - prob_1_wins_game\n",
    "\n",
    "    return {\n",
    "        \"prob 1 wins game\" : prob_1_wins_game,\n",
    "        \"prob 2 wins game\" : prob_2_wins_game\n",
    "    }"
   ]
  },
  {
   "cell_type": "code",
   "execution_count": 19,
   "id": "38a090cc",
   "metadata": {},
   "outputs": [
    {
     "name": "stdout",
     "output_type": "stream",
     "text": [
      "{'prob 1 wins game': np.float64(0.5), 'prob 2 wins game': np.float64(0.5)}\n"
     ]
    }
   ],
   "source": [
    "game1 = game(player_1, player_2, serving=player_1)\n",
    "print(game1)"
   ]
  },
  {
   "cell_type": "code",
   "execution_count": 20,
   "id": "fbb88e54",
   "metadata": {},
   "outputs": [
    {
     "name": "stdout",
     "output_type": "stream",
     "text": [
      "{'prob 1 wins game': np.float64(0.5), 'prob 2 wins game': np.float64(0.5)}\n"
     ]
    }
   ],
   "source": [
    "game2 = gamez(player_1, player_2, serving=player_1)\n",
    "print(game1)"
   ]
  },
  {
   "cell_type": "code",
   "execution_count": null,
   "id": "ae1f502a",
   "metadata": {},
   "outputs": [],
   "source": [
    "def set(player_1, player_2, tie_break_points_to_win, sets_to_win):\n",
    "    \n",
    "    return prob_win_1, prob_win_2"
   ]
  }
 ],
 "metadata": {
  "kernelspec": {
   "display_name": "Python 3",
   "language": "python",
   "name": "python3"
  },
  "language_info": {
   "codemirror_mode": {
    "name": "ipython",
    "version": 3
   },
   "file_extension": ".py",
   "mimetype": "text/x-python",
   "name": "python",
   "nbconvert_exporter": "python",
   "pygments_lexer": "ipython3",
   "version": "3.11.9"
  }
 },
 "nbformat": 4,
 "nbformat_minor": 5
}
